{
 "cells": [
  {
   "cell_type": "code",
   "execution_count": 1,
   "id": "dd7a8797",
   "metadata": {},
   "outputs": [
    {
     "data": {
      "text/html": [
       "<div>\n",
       "<style scoped>\n",
       "    .dataframe tbody tr th:only-of-type {\n",
       "        vertical-align: middle;\n",
       "    }\n",
       "\n",
       "    .dataframe tbody tr th {\n",
       "        vertical-align: top;\n",
       "    }\n",
       "\n",
       "    .dataframe thead th {\n",
       "        text-align: right;\n",
       "    }\n",
       "</style>\n",
       "<table border=\"1\" class=\"dataframe\">\n",
       "  <thead>\n",
       "    <tr style=\"text-align: right;\">\n",
       "      <th></th>\n",
       "      <th>merchant</th>\n",
       "      <th>time</th>\n",
       "      <th>amount_usd_in_cents</th>\n",
       "    </tr>\n",
       "  </thead>\n",
       "  <tbody>\n",
       "    <tr>\n",
       "      <th>0</th>\n",
       "      <td>faa029c6b0</td>\n",
       "      <td>2034-06-17 23:34:14</td>\n",
       "      <td>6349</td>\n",
       "    </tr>\n",
       "    <tr>\n",
       "      <th>1</th>\n",
       "      <td>ed7a7d91aa</td>\n",
       "      <td>2034-12-27 00:40:38</td>\n",
       "      <td>3854</td>\n",
       "    </tr>\n",
       "    <tr>\n",
       "      <th>2</th>\n",
       "      <td>5608f200cf</td>\n",
       "      <td>2034-04-30 01:29:42</td>\n",
       "      <td>789</td>\n",
       "    </tr>\n",
       "    <tr>\n",
       "      <th>3</th>\n",
       "      <td>15b1a0d61e</td>\n",
       "      <td>2034-09-16 01:06:23</td>\n",
       "      <td>4452</td>\n",
       "    </tr>\n",
       "    <tr>\n",
       "      <th>4</th>\n",
       "      <td>4770051790</td>\n",
       "      <td>2034-07-22 16:21:42</td>\n",
       "      <td>20203</td>\n",
       "    </tr>\n",
       "  </tbody>\n",
       "</table>\n",
       "</div>"
      ],
      "text/plain": [
       "     merchant                time  amount_usd_in_cents\n",
       "0  faa029c6b0 2034-06-17 23:34:14                 6349\n",
       "1  ed7a7d91aa 2034-12-27 00:40:38                 3854\n",
       "2  5608f200cf 2034-04-30 01:29:42                  789\n",
       "3  15b1a0d61e 2034-09-16 01:06:23                 4452\n",
       "4  4770051790 2034-07-22 16:21:42                20203"
      ]
     },
     "execution_count": 1,
     "metadata": {},
     "output_type": "execute_result"
    }
   ],
   "source": [
    "import pandas as pd\n",
    "merchant_level = pd.read_excel('Data Set.xlsx')\n",
    "merchant_level.head()"
   ]
  },
  {
   "cell_type": "code",
   "execution_count": 2,
   "id": "e06be252",
   "metadata": {},
   "outputs": [
    {
     "data": {
      "text/plain": [
       "merchant               0\n",
       "time                   0\n",
       "amount_usd_in_cents    0\n",
       "dtype: int64"
      ]
     },
     "execution_count": 2,
     "metadata": {},
     "output_type": "execute_result"
    }
   ],
   "source": [
    "# There is no null values in the data\n",
    "merchant_level.isnull().sum()"
   ]
  },
  {
   "cell_type": "markdown",
   "id": "1d1136ab",
   "metadata": {},
   "source": [
    "# Removing outliers if any"
   ]
  },
  {
   "cell_type": "code",
   "execution_count": 3,
   "id": "48c81af8",
   "metadata": {},
   "outputs": [
    {
     "data": {
      "text/plain": [
       "(3220.0, 12467.25)"
      ]
     },
     "execution_count": 3,
     "metadata": {},
     "output_type": "execute_result"
    }
   ],
   "source": [
    "Q1 = merchant_level.amount_usd_in_cents.quantile(0.25)\n",
    "Q3 = merchant_level.amount_usd_in_cents.quantile(0.75)\n",
    "Q1, Q3"
   ]
  },
  {
   "cell_type": "code",
   "execution_count": 4,
   "id": "01ac3508",
   "metadata": {},
   "outputs": [
    {
     "data": {
      "text/plain": [
       "9247.25"
      ]
     },
     "execution_count": 4,
     "metadata": {},
     "output_type": "execute_result"
    }
   ],
   "source": [
    "IQR = Q3 - Q1\n",
    "IQR"
   ]
  },
  {
   "cell_type": "code",
   "execution_count": 5,
   "id": "3242b10b",
   "metadata": {},
   "outputs": [
    {
     "data": {
      "text/plain": [
       "(-10650.875, 26338.125)"
      ]
     },
     "execution_count": 5,
     "metadata": {},
     "output_type": "execute_result"
    }
   ],
   "source": [
    "lower_limit = Q1 - 1.5*IQR\n",
    "upper_limit = Q3 + 1.5*IQR\n",
    "lower_limit, upper_limit"
   ]
  },
  {
   "cell_type": "code",
   "execution_count": 6,
   "id": "e5a4e031",
   "metadata": {},
   "outputs": [],
   "source": [
    "# lets change the date into quarters\n",
    "merchant_level['quarter'] = merchant_level['time'].dt.quarter"
   ]
  },
  {
   "cell_type": "code",
   "execution_count": 7,
   "id": "f0abd634",
   "metadata": {},
   "outputs": [
    {
     "data": {
      "text/html": [
       "<div>\n",
       "<style scoped>\n",
       "    .dataframe tbody tr th:only-of-type {\n",
       "        vertical-align: middle;\n",
       "    }\n",
       "\n",
       "    .dataframe tbody tr th {\n",
       "        vertical-align: top;\n",
       "    }\n",
       "\n",
       "    .dataframe thead th {\n",
       "        text-align: right;\n",
       "    }\n",
       "</style>\n",
       "<table border=\"1\" class=\"dataframe\">\n",
       "  <thead>\n",
       "    <tr style=\"text-align: right;\">\n",
       "      <th></th>\n",
       "      <th>merchant</th>\n",
       "      <th>time</th>\n",
       "      <th>amount_usd_in_cents</th>\n",
       "      <th>quarter</th>\n",
       "    </tr>\n",
       "  </thead>\n",
       "  <tbody>\n",
       "    <tr>\n",
       "      <th>0</th>\n",
       "      <td>faa029c6b0</td>\n",
       "      <td>2034-06-17 23:34:14</td>\n",
       "      <td>6349</td>\n",
       "      <td>2</td>\n",
       "    </tr>\n",
       "    <tr>\n",
       "      <th>1</th>\n",
       "      <td>ed7a7d91aa</td>\n",
       "      <td>2034-12-27 00:40:38</td>\n",
       "      <td>3854</td>\n",
       "      <td>4</td>\n",
       "    </tr>\n",
       "    <tr>\n",
       "      <th>2</th>\n",
       "      <td>5608f200cf</td>\n",
       "      <td>2034-04-30 01:29:42</td>\n",
       "      <td>789</td>\n",
       "      <td>2</td>\n",
       "    </tr>\n",
       "    <tr>\n",
       "      <th>3</th>\n",
       "      <td>15b1a0d61e</td>\n",
       "      <td>2034-09-16 01:06:23</td>\n",
       "      <td>4452</td>\n",
       "      <td>3</td>\n",
       "    </tr>\n",
       "    <tr>\n",
       "      <th>4</th>\n",
       "      <td>4770051790</td>\n",
       "      <td>2034-07-22 16:21:42</td>\n",
       "      <td>20203</td>\n",
       "      <td>3</td>\n",
       "    </tr>\n",
       "    <tr>\n",
       "      <th>...</th>\n",
       "      <td>...</td>\n",
       "      <td>...</td>\n",
       "      <td>...</td>\n",
       "      <td>...</td>\n",
       "    </tr>\n",
       "    <tr>\n",
       "      <th>100407</th>\n",
       "      <td>4f65280858</td>\n",
       "      <td>2033-11-17 19:45:58</td>\n",
       "      <td>7490</td>\n",
       "      <td>4</td>\n",
       "    </tr>\n",
       "    <tr>\n",
       "      <th>100408</th>\n",
       "      <td>d701c0b3db</td>\n",
       "      <td>2034-01-20 15:52:07</td>\n",
       "      <td>93743</td>\n",
       "      <td>1</td>\n",
       "    </tr>\n",
       "    <tr>\n",
       "      <th>100409</th>\n",
       "      <td>4b683b2bc5</td>\n",
       "      <td>2034-08-21 23:08:25</td>\n",
       "      <td>10472</td>\n",
       "      <td>3</td>\n",
       "    </tr>\n",
       "    <tr>\n",
       "      <th>100410</th>\n",
       "      <td>fc7f400429</td>\n",
       "      <td>2033-03-04 02:01:49</td>\n",
       "      <td>3932</td>\n",
       "      <td>1</td>\n",
       "    </tr>\n",
       "    <tr>\n",
       "      <th>100411</th>\n",
       "      <td>c5b09bf41e</td>\n",
       "      <td>2033-11-08 14:35:11</td>\n",
       "      <td>16937</td>\n",
       "      <td>4</td>\n",
       "    </tr>\n",
       "  </tbody>\n",
       "</table>\n",
       "<p>100412 rows × 4 columns</p>\n",
       "</div>"
      ],
      "text/plain": [
       "          merchant                time  amount_usd_in_cents  quarter\n",
       "0       faa029c6b0 2034-06-17 23:34:14                 6349        2\n",
       "1       ed7a7d91aa 2034-12-27 00:40:38                 3854        4\n",
       "2       5608f200cf 2034-04-30 01:29:42                  789        2\n",
       "3       15b1a0d61e 2034-09-16 01:06:23                 4452        3\n",
       "4       4770051790 2034-07-22 16:21:42                20203        3\n",
       "...            ...                 ...                  ...      ...\n",
       "100407  4f65280858 2033-11-17 19:45:58                 7490        4\n",
       "100408  d701c0b3db 2034-01-20 15:52:07                93743        1\n",
       "100409  4b683b2bc5 2034-08-21 23:08:25                10472        3\n",
       "100410  fc7f400429 2033-03-04 02:01:49                 3932        1\n",
       "100411  c5b09bf41e 2033-11-08 14:35:11                16937        4\n",
       "\n",
       "[100412 rows x 4 columns]"
      ]
     },
     "execution_count": 7,
     "metadata": {},
     "output_type": "execute_result"
    }
   ],
   "source": [
    "merchant_level"
   ]
  },
  {
   "cell_type": "code",
   "execution_count": 8,
   "id": "240264ba",
   "metadata": {},
   "outputs": [
    {
     "data": {
      "text/plain": [
       "array([2, 4, 3, 1], dtype=int64)"
      ]
     },
     "execution_count": 8,
     "metadata": {},
     "output_type": "execute_result"
    }
   ],
   "source": [
    "merchant_level['quarter'].unique()"
   ]
  },
  {
   "cell_type": "code",
   "execution_count": 9,
   "id": "2049a4c6",
   "metadata": {},
   "outputs": [],
   "source": [
    "# lets make a feature called churn, all those merchants who paid the amount\n",
    "# with in 2 quarters will be counted as \"No Churn\", above 2 will be counted as \"they will churn\"\n",
    "%timeit\n",
    "merchant_level['churn'] = merchant_level['quarter'].apply(lambda x: 0 if x<=2 else 1)"
   ]
  },
  {
   "cell_type": "code",
   "execution_count": 10,
   "id": "9f1f9111",
   "metadata": {},
   "outputs": [
    {
     "data": {
      "text/html": [
       "<div>\n",
       "<style scoped>\n",
       "    .dataframe tbody tr th:only-of-type {\n",
       "        vertical-align: middle;\n",
       "    }\n",
       "\n",
       "    .dataframe tbody tr th {\n",
       "        vertical-align: top;\n",
       "    }\n",
       "\n",
       "    .dataframe thead th {\n",
       "        text-align: right;\n",
       "    }\n",
       "</style>\n",
       "<table border=\"1\" class=\"dataframe\">\n",
       "  <thead>\n",
       "    <tr style=\"text-align: right;\">\n",
       "      <th></th>\n",
       "      <th>merchant</th>\n",
       "      <th>time</th>\n",
       "      <th>amount_usd_in_cents</th>\n",
       "      <th>quarter</th>\n",
       "      <th>churn</th>\n",
       "    </tr>\n",
       "  </thead>\n",
       "  <tbody>\n",
       "    <tr>\n",
       "      <th>0</th>\n",
       "      <td>faa029c6b0</td>\n",
       "      <td>2034-06-17 23:34:14</td>\n",
       "      <td>6349</td>\n",
       "      <td>2</td>\n",
       "      <td>0</td>\n",
       "    </tr>\n",
       "    <tr>\n",
       "      <th>1</th>\n",
       "      <td>ed7a7d91aa</td>\n",
       "      <td>2034-12-27 00:40:38</td>\n",
       "      <td>3854</td>\n",
       "      <td>4</td>\n",
       "      <td>1</td>\n",
       "    </tr>\n",
       "    <tr>\n",
       "      <th>2</th>\n",
       "      <td>5608f200cf</td>\n",
       "      <td>2034-04-30 01:29:42</td>\n",
       "      <td>789</td>\n",
       "      <td>2</td>\n",
       "      <td>0</td>\n",
       "    </tr>\n",
       "    <tr>\n",
       "      <th>3</th>\n",
       "      <td>15b1a0d61e</td>\n",
       "      <td>2034-09-16 01:06:23</td>\n",
       "      <td>4452</td>\n",
       "      <td>3</td>\n",
       "      <td>1</td>\n",
       "    </tr>\n",
       "    <tr>\n",
       "      <th>4</th>\n",
       "      <td>4770051790</td>\n",
       "      <td>2034-07-22 16:21:42</td>\n",
       "      <td>20203</td>\n",
       "      <td>3</td>\n",
       "      <td>1</td>\n",
       "    </tr>\n",
       "    <tr>\n",
       "      <th>...</th>\n",
       "      <td>...</td>\n",
       "      <td>...</td>\n",
       "      <td>...</td>\n",
       "      <td>...</td>\n",
       "      <td>...</td>\n",
       "    </tr>\n",
       "    <tr>\n",
       "      <th>100407</th>\n",
       "      <td>4f65280858</td>\n",
       "      <td>2033-11-17 19:45:58</td>\n",
       "      <td>7490</td>\n",
       "      <td>4</td>\n",
       "      <td>1</td>\n",
       "    </tr>\n",
       "    <tr>\n",
       "      <th>100408</th>\n",
       "      <td>d701c0b3db</td>\n",
       "      <td>2034-01-20 15:52:07</td>\n",
       "      <td>93743</td>\n",
       "      <td>1</td>\n",
       "      <td>0</td>\n",
       "    </tr>\n",
       "    <tr>\n",
       "      <th>100409</th>\n",
       "      <td>4b683b2bc5</td>\n",
       "      <td>2034-08-21 23:08:25</td>\n",
       "      <td>10472</td>\n",
       "      <td>3</td>\n",
       "      <td>1</td>\n",
       "    </tr>\n",
       "    <tr>\n",
       "      <th>100410</th>\n",
       "      <td>fc7f400429</td>\n",
       "      <td>2033-03-04 02:01:49</td>\n",
       "      <td>3932</td>\n",
       "      <td>1</td>\n",
       "      <td>0</td>\n",
       "    </tr>\n",
       "    <tr>\n",
       "      <th>100411</th>\n",
       "      <td>c5b09bf41e</td>\n",
       "      <td>2033-11-08 14:35:11</td>\n",
       "      <td>16937</td>\n",
       "      <td>4</td>\n",
       "      <td>1</td>\n",
       "    </tr>\n",
       "  </tbody>\n",
       "</table>\n",
       "<p>100412 rows × 5 columns</p>\n",
       "</div>"
      ],
      "text/plain": [
       "          merchant                time  amount_usd_in_cents  quarter  churn\n",
       "0       faa029c6b0 2034-06-17 23:34:14                 6349        2      0\n",
       "1       ed7a7d91aa 2034-12-27 00:40:38                 3854        4      1\n",
       "2       5608f200cf 2034-04-30 01:29:42                  789        2      0\n",
       "3       15b1a0d61e 2034-09-16 01:06:23                 4452        3      1\n",
       "4       4770051790 2034-07-22 16:21:42                20203        3      1\n",
       "...            ...                 ...                  ...      ...    ...\n",
       "100407  4f65280858 2033-11-17 19:45:58                 7490        4      1\n",
       "100408  d701c0b3db 2034-01-20 15:52:07                93743        1      0\n",
       "100409  4b683b2bc5 2034-08-21 23:08:25                10472        3      1\n",
       "100410  fc7f400429 2033-03-04 02:01:49                 3932        1      0\n",
       "100411  c5b09bf41e 2033-11-08 14:35:11                16937        4      1\n",
       "\n",
       "[100412 rows x 5 columns]"
      ]
     },
     "execution_count": 10,
     "metadata": {},
     "output_type": "execute_result"
    }
   ],
   "source": [
    "merchant_level"
   ]
  },
  {
   "cell_type": "code",
   "execution_count": 12,
   "id": "f399b3a9",
   "metadata": {},
   "outputs": [
    {
     "name": "stdout",
     "output_type": "stream",
     "text": [
      "Not Churn :  37807 \n",
      "Churn :  62605\n"
     ]
    }
   ],
   "source": [
    "count1 = (merchant_level['churn'] == 0).sum()\n",
    "count2 = (merchant_level['churn'] == 1).sum()\n",
    "print('Not Churn : ',count1,'\\nChurn : ',count2)"
   ]
  },
  {
   "cell_type": "code",
   "execution_count": 16,
   "id": "7c2bc0e0",
   "metadata": {},
   "outputs": [],
   "source": [
    "# lets store quarter, and amount feature in X as independent variables\n",
    "X = merchant_level.drop(['merchant','time','churn'], axis = 1)"
   ]
  },
  {
   "cell_type": "code",
   "execution_count": 17,
   "id": "ff8560d5",
   "metadata": {},
   "outputs": [],
   "source": [
    "# lets store ,churn feature in Y as dependent feature\n",
    "Y = merchant_level['churn']"
   ]
  },
  {
   "cell_type": "code",
   "execution_count": 18,
   "id": "918c9ff8",
   "metadata": {},
   "outputs": [],
   "source": [
    "#Split the data into test and train set\n",
    "from sklearn.model_selection import train_test_split\n",
    "X_train,X_test,y_train,y_test=train_test_split(X,Y,test_size=0.3,random_state=0)"
   ]
  },
  {
   "cell_type": "code",
   "execution_count": 19,
   "id": "d5968c39",
   "metadata": {},
   "outputs": [],
   "source": [
    "# Importing all the required models\n",
    "from sklearn import tree\n",
    "from sklearn.linear_model import LogisticRegression\n",
    "from sklearn.ensemble import RandomForestClassifier\n",
    "from sklearn.svm import SVC"
   ]
  },
  {
   "cell_type": "markdown",
   "id": "2d302dea",
   "metadata": {},
   "source": [
    "# Logistic Regression\n",
    "- let train a logistic regression model on the data and see what we get"
   ]
  },
  {
   "cell_type": "code",
   "execution_count": 20,
   "id": "5a444a1f",
   "metadata": {},
   "outputs": [
    {
     "data": {
      "text/plain": [
       "0.6218629664055239"
      ]
     },
     "execution_count": 20,
     "metadata": {},
     "output_type": "execute_result"
    }
   ],
   "source": [
    "logistic = LogisticRegression(solver = 'lbfgs',penalty = 'l2')\n",
    "logistic.fit(X_train,y_train)\n",
    "logistic.score(X_test,y_test)"
   ]
  },
  {
   "cell_type": "code",
   "execution_count": 23,
   "id": "166dde2c",
   "metadata": {},
   "outputs": [],
   "source": [
    "predictions = logistic.predict(X_test)"
   ]
  },
  {
   "cell_type": "code",
   "execution_count": 24,
   "id": "bf74b421",
   "metadata": {},
   "outputs": [
    {
     "name": "stderr",
     "output_type": "stream",
     "text": [
      "C:\\Users\\hp\\AppData\\Roaming\\Python\\Python38\\site-packages\\sklearn\\base.py:450: UserWarning: X does not have valid feature names, but LogisticRegression was fitted with feature names\n",
      "  warnings.warn(\n"
     ]
    },
    {
     "data": {
      "text/plain": [
       "array([0], dtype=int64)"
      ]
     },
     "execution_count": 24,
     "metadata": {},
     "output_type": "execute_result"
    }
   ],
   "source": [
    "logistic.predict([[300000,1]])"
   ]
  },
  {
   "cell_type": "code",
   "execution_count": 25,
   "id": "006737f8",
   "metadata": {},
   "outputs": [
    {
     "name": "stdout",
     "output_type": "stream",
     "text": [
      "              precision    recall  f1-score   support\n",
      "\n",
      "           0       0.65      0.01      0.02     11457\n",
      "           1       0.62      1.00      0.77     18667\n",
      "\n",
      "    accuracy                           0.62     30124\n",
      "   macro avg       0.64      0.50      0.40     30124\n",
      "weighted avg       0.63      0.62      0.48     30124\n",
      "\n"
     ]
    }
   ],
   "source": [
    "# Classification Report\n",
    "from sklearn.metrics import classification_report\n",
    "print(classification_report(y_test, predictions))"
   ]
  },
  {
   "cell_type": "markdown",
   "id": "1878d8d1",
   "metadata": {},
   "source": [
    "# Random Forest\n",
    "- Now we are going to train the random forest model"
   ]
  },
  {
   "cell_type": "code",
   "execution_count": 26,
   "id": "91dc0217",
   "metadata": {},
   "outputs": [
    {
     "data": {
      "text/plain": [
       "RandomForestClassifier(n_estimators=120)"
      ]
     },
     "execution_count": 26,
     "metadata": {},
     "output_type": "execute_result"
    }
   ],
   "source": [
    "from sklearn.ensemble import RandomForestClassifier\n",
    "random = RandomForestClassifier(n_estimators=120)\n",
    "random.fit(X_train, y_train)"
   ]
  },
  {
   "cell_type": "code",
   "execution_count": 27,
   "id": "5c485d00",
   "metadata": {},
   "outputs": [
    {
     "data": {
      "text/plain": [
       "1.0"
      ]
     },
     "execution_count": 27,
     "metadata": {},
     "output_type": "execute_result"
    }
   ],
   "source": [
    "# Accuracy\n",
    "random.score(X_test, y_test)"
   ]
  },
  {
   "cell_type": "code",
   "execution_count": 29,
   "id": "b89656c3",
   "metadata": {},
   "outputs": [
    {
     "data": {
      "text/plain": [
       "array([0, 0, 1, ..., 1, 0, 1], dtype=int64)"
      ]
     },
     "execution_count": 29,
     "metadata": {},
     "output_type": "execute_result"
    }
   ],
   "source": [
    "rand = random.predict(X_test)\n",
    "rand"
   ]
  },
  {
   "cell_type": "code",
   "execution_count": 30,
   "id": "27d329c9",
   "metadata": {},
   "outputs": [
    {
     "name": "stdout",
     "output_type": "stream",
     "text": [
      "              precision    recall  f1-score   support\n",
      "\n",
      "           0       1.00      1.00      1.00     11457\n",
      "           1       1.00      1.00      1.00     18667\n",
      "\n",
      "    accuracy                           1.00     30124\n",
      "   macro avg       1.00      1.00      1.00     30124\n",
      "weighted avg       1.00      1.00      1.00     30124\n",
      "\n"
     ]
    }
   ],
   "source": [
    "# Classification Report\n",
    "from sklearn.metrics import classification_report\n",
    "print(classification_report(y_test, rand))"
   ]
  },
  {
   "cell_type": "markdown",
   "id": "69885e15",
   "metadata": {},
   "source": [
    "# Decision Tree\n"
   ]
  },
  {
   "cell_type": "code",
   "execution_count": 31,
   "id": "0cfecba6",
   "metadata": {},
   "outputs": [
    {
     "data": {
      "text/plain": [
       "DecisionTreeClassifier(min_samples_split=20, random_state=42)"
      ]
     },
     "execution_count": 31,
     "metadata": {},
     "output_type": "execute_result"
    }
   ],
   "source": [
    "from sklearn.tree import DecisionTreeClassifier\n",
    "decision = DecisionTreeClassifier(criterion='gini',min_samples_split=20,random_state=42)\n",
    "decision.fit(X_train,y_train)"
   ]
  },
  {
   "cell_type": "code",
   "execution_count": 33,
   "id": "5dcee119",
   "metadata": {},
   "outputs": [
    {
     "data": {
      "text/plain": [
       "1.0"
      ]
     },
     "execution_count": 33,
     "metadata": {},
     "output_type": "execute_result"
    }
   ],
   "source": [
    "# Accuracy\n",
    "decision.score(X_test,y_test)\n"
   ]
  },
  {
   "cell_type": "code",
   "execution_count": 34,
   "id": "1a06229a",
   "metadata": {},
   "outputs": [
    {
     "data": {
      "text/plain": [
       "array([0, 0, 1, ..., 1, 0, 1], dtype=int64)"
      ]
     },
     "execution_count": 34,
     "metadata": {},
     "output_type": "execute_result"
    }
   ],
   "source": [
    "tree = decision.predict(X_test)\n",
    "tree"
   ]
  },
  {
   "cell_type": "code",
   "execution_count": 48,
   "id": "923c790d",
   "metadata": {},
   "outputs": [],
   "source": [
    "X_test.to_csv('Prediction of churn.csv')"
   ]
  },
  {
   "cell_type": "code",
   "execution_count": 49,
   "id": "658884c9",
   "metadata": {},
   "outputs": [
    {
     "data": {
      "text/html": [
       "<div>\n",
       "<style scoped>\n",
       "    .dataframe tbody tr th:only-of-type {\n",
       "        vertical-align: middle;\n",
       "    }\n",
       "\n",
       "    .dataframe tbody tr th {\n",
       "        vertical-align: top;\n",
       "    }\n",
       "\n",
       "    .dataframe thead th {\n",
       "        text-align: right;\n",
       "    }\n",
       "</style>\n",
       "<table border=\"1\" class=\"dataframe\">\n",
       "  <thead>\n",
       "    <tr style=\"text-align: right;\">\n",
       "      <th></th>\n",
       "      <th>amount_usd_in_cents</th>\n",
       "      <th>quarter</th>\n",
       "      <th>Predicted churn</th>\n",
       "    </tr>\n",
       "  </thead>\n",
       "  <tbody>\n",
       "    <tr>\n",
       "      <th>29729</th>\n",
       "      <td>334</td>\n",
       "      <td>1</td>\n",
       "      <td>0</td>\n",
       "    </tr>\n",
       "    <tr>\n",
       "      <th>98016</th>\n",
       "      <td>13798</td>\n",
       "      <td>2</td>\n",
       "      <td>0</td>\n",
       "    </tr>\n",
       "    <tr>\n",
       "      <th>25840</th>\n",
       "      <td>24154</td>\n",
       "      <td>3</td>\n",
       "      <td>1</td>\n",
       "    </tr>\n",
       "    <tr>\n",
       "      <th>81472</th>\n",
       "      <td>743</td>\n",
       "      <td>3</td>\n",
       "      <td>1</td>\n",
       "    </tr>\n",
       "    <tr>\n",
       "      <th>53379</th>\n",
       "      <td>18954</td>\n",
       "      <td>3</td>\n",
       "      <td>1</td>\n",
       "    </tr>\n",
       "  </tbody>\n",
       "</table>\n",
       "</div>"
      ],
      "text/plain": [
       "       amount_usd_in_cents  quarter  Predicted churn\n",
       "29729                  334        1                0\n",
       "98016                13798        2                0\n",
       "25840                24154        3                1\n",
       "81472                  743        3                1\n",
       "53379                18954        3                1"
      ]
     },
     "execution_count": 49,
     "metadata": {},
     "output_type": "execute_result"
    }
   ],
   "source": [
    "# These are the prediction our model did\n",
    "X_test.head()"
   ]
  },
  {
   "cell_type": "code",
   "execution_count": 35,
   "id": "a0eb9afb",
   "metadata": {},
   "outputs": [
    {
     "name": "stdout",
     "output_type": "stream",
     "text": [
      "              precision    recall  f1-score   support\n",
      "\n",
      "           0       1.00      1.00      1.00     11457\n",
      "           1       1.00      1.00      1.00     18667\n",
      "\n",
      "    accuracy                           1.00     30124\n",
      "   macro avg       1.00      1.00      1.00     30124\n",
      "weighted avg       1.00      1.00      1.00     30124\n",
      "\n"
     ]
    }
   ],
   "source": [
    "# Classification Report\n",
    "from sklearn.metrics import classification_report\n",
    "print(classification_report(y_test, tree))"
   ]
  },
  {
   "cell_type": "markdown",
   "id": "0c92f332",
   "metadata": {},
   "source": [
    "# \n",
    "- we got almost 100% accuracy with random forest and decision tree\n",
    "- now lets do seperate prediction\n",
    "- we will tell the model the amount a merchant paid in quarters\n",
    "- the model will predict either they will churn or nor"
   ]
  },
  {
   "cell_type": "code",
   "execution_count": 37,
   "id": "3ac33b96",
   "metadata": {},
   "outputs": [
    {
     "name": "stderr",
     "output_type": "stream",
     "text": [
      "C:\\Users\\hp\\AppData\\Roaming\\Python\\Python38\\site-packages\\sklearn\\base.py:450: UserWarning: X does not have valid feature names, but DecisionTreeClassifier was fitted with feature names\n",
      "  warnings.warn(\n"
     ]
    },
    {
     "data": {
      "text/plain": [
       "array([0], dtype=int64)"
      ]
     },
     "execution_count": 37,
     "metadata": {},
     "output_type": "execute_result"
    }
   ],
   "source": [
    "# as you can see the quarter is 2, so the model will predict no churn(0)\n",
    "decision.predict([[15000,2]])"
   ]
  },
  {
   "cell_type": "code",
   "execution_count": 39,
   "id": "01607035",
   "metadata": {},
   "outputs": [
    {
     "name": "stderr",
     "output_type": "stream",
     "text": [
      "C:\\Users\\hp\\AppData\\Roaming\\Python\\Python38\\site-packages\\sklearn\\base.py:450: UserWarning: X does not have valid feature names, but DecisionTreeClassifier was fitted with feature names\n",
      "  warnings.warn(\n"
     ]
    },
    {
     "data": {
      "text/plain": [
       "array([1], dtype=int64)"
      ]
     },
     "execution_count": 39,
     "metadata": {},
     "output_type": "execute_result"
    }
   ],
   "source": [
    "# as you can see the quarter is 3, so the model will predict churn(1)\n",
    "decision.predict([[10000,3]])"
   ]
  }
 ],
 "metadata": {
  "kernelspec": {
   "display_name": "Python 3",
   "language": "python",
   "name": "python3"
  },
  "language_info": {
   "codemirror_mode": {
    "name": "ipython",
    "version": 3
   },
   "file_extension": ".py",
   "mimetype": "text/x-python",
   "name": "python",
   "nbconvert_exporter": "python",
   "pygments_lexer": "ipython3",
   "version": "3.8.8"
  }
 },
 "nbformat": 4,
 "nbformat_minor": 5
}
